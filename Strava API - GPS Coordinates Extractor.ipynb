{
 "cells": [
  {
   "cell_type": "code",
   "execution_count": null,
   "id": "continuous-ceiling",
   "metadata": {},
   "outputs": [],
   "source": [
    "#source: https://towardsdatascience.com/using-the-strava-api-and-pandas-to-explore-your-activity-data-d94901d9bfde"
   ]
  },
  {
   "cell_type": "code",
   "execution_count": null,
   "id": "medium-resolution",
   "metadata": {},
   "outputs": [],
   "source": [
    "import requests, urllib3, polyline, plotly.express as px, pandas as pd\n",
    "urllib3.disable_warnings(urllib3.exceptions.InsecureRequestWarning)\n",
    "\n",
    "auth_url = \"https://www.strava.com/oauth/token\"\n",
    "activites_url = \"https://www.strava.com/api/v3/athlete/activities\"\n",
    "\n",
    "#input the client_id, client_secret, and referesh_token\n",
    "payload = {\n",
    "    'client_id': \"\",\n",
    "    'client_secret': '',\n",
    "    'refresh_token': '',\n",
    "    'grant_type': \"refresh_token\",\n",
    "    'f': 'json'\n",
    "}\n",
    "\n",
    "#Since a token gets deleted this requests a new token\n",
    "print(\"Requesting Token...\\n\")\n",
    "res = requests.post(auth_url, data=payload, verify=False)\n",
    "access_token = res.json()['access_token']\n",
    "print(\"Access Token = {}\\n\".format(access_token))\n",
    "\n",
    "#This now requests your data\n",
    "header = {'Authorization': 'Bearer ' + access_token}\n",
    "param = {'per_page': 200, 'page': 1}\n",
    "my_dataset = requests.get(activites_url, headers=header, params=param).json()\n",
    "\n",
    "print(my_dataset[0][\"name\"])\n",
    "print(my_dataset[0][\"map\"][\"summary_polyline\"])"
   ]
  },
  {
   "cell_type": "code",
   "execution_count": null,
   "id": "turned-elimination",
   "metadata": {},
   "outputs": [],
   "source": []
  },
  {
   "cell_type": "markdown",
   "id": "guided-characterization",
   "metadata": {},
   "source": [
    "# Converting polyline format to GPS for Tableau"
   ]
  },
  {
   "cell_type": "code",
   "execution_count": null,
   "id": "isolated-panel",
   "metadata": {},
   "outputs": [],
   "source": [
    "#Pull the upload_id (unique identifier) and map's polyline from each exercise session\n",
    "map_data = {}\n",
    "for i in range(len(my_dataset)):\n",
    "    \n",
    "    map_data[i] = [my_dataset[i][\"upload_id\"], my_dataset[i]['map']['summary_polyline']]\n",
    "    \n",
    "#Iterate over every polyline to convert to GPS coordinates\n",
    "gps_map = {}\n",
    "\n",
    "for i in range(len(map_data)):\n",
    "    gps_map[i] = [map_data[i][0],polyline.decode(map_data[i][1])]\n",
    "    \n",
    "#Flatten the list of lists of just gps coordinates\n",
    "gps_map_flat = []\n",
    "\n",
    "for i in range(len(gps_map)):\n",
    "    for x in range(len(gps_map[i][1])):\n",
    "        gps_map_flat.append([gps_map[i][0],gps_map[i][1][x][0], gps_map[i][1][x][1]])\n",
    "        \n",
    "#Merge gps coordinates with extra data columns from each exercise sessions\n",
    "gps_map = pd.DataFrame(gps_map_flat) #convert to dataframe\n",
    "gps_map.columns = ['upload_id','lat','long'] #rename columns\n",
    "\n",
    "#convert json to dataframe for all data attributes\n",
    "activities = pd.json_normalize(my_dataset)\n",
    "\n",
    "strava_final = gps_map.merge(activities, on = 'upload_id', how = 'left')\n",
    "\n",
    "strava_final.to_csv(r'C:\\Users\\tadde\\OneDrive\\Python Scripts\\strava_gps_final.csv', index = False)"
   ]
  }
 ],
 "metadata": {
  "kernelspec": {
   "display_name": "Python 3",
   "language": "python",
   "name": "python3"
  },
  "language_info": {
   "codemirror_mode": {
    "name": "ipython",
    "version": 3
   },
   "file_extension": ".py",
   "mimetype": "text/x-python",
   "name": "python",
   "nbconvert_exporter": "python",
   "pygments_lexer": "ipython3",
   "version": "3.9.2"
  }
 },
 "nbformat": 4,
 "nbformat_minor": 5
}
